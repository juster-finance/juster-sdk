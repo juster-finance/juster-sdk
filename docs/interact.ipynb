{
 "cells": [
  {
   "cell_type": "code",
   "execution_count": 3,
   "id": "d19346d3-2aed-4998-b1fc-b79583808983",
   "metadata": {},
   "outputs": [],
   "source": [
    "/*\n",
    "const { BakingBet } = require(\"..\");\n",
    "const { BeaconWallet } = require(\"@taquito/beacon-wallet\");\n",
    "const { TezosToolkit } = require(\"@taquito/taquito\");\n",
    "const Tezos = new TezosToolkit('https://testnet-tezos.giganode.io');\n",
    "*/\n",
    "\n",
    "/*\n",
    "const options = {\n",
    "  name: 'BakingBet',\n",
    "  iconUrl: 'https://tezostaquito.io/img/favicon.png',\n",
    "  preferredNetwork: \"florencenet\",\n",
    "  eventHandlers: {\n",
    "    PERMISSION_REQUEST_SUCCESS: {\n",
    "      handler: async (data) => {\n",
    "        console.log('permission data:', data);\n",
    "      },\n",
    "    },\n",
    "  },\n",
    "};\n",
    "const wallet = new BeaconWallet(options);\n",
    "*/"
   ]
  },
  {
   "cell_type": "code",
   "execution_count": 2,
   "id": "f1c9ca43-a59f-43a2-85fc-6177ef3e1368",
   "metadata": {},
   "outputs": [
    {
     "name": "stdout",
     "output_type": "stream",
     "text": [
      "GOT MOCK POST MESSAGE { target: 'toExtension', payload: 'ping' }\n",
      "GOT MOCK POST MESSAGE { target: 'toExtension', payload: 'ping' }\n"
     ]
    }
   ],
   "source": [
    "const { estimateShares } = require(\"..\");\n",
    "const rawEvents = require(\"../test/data/events.json\")\n"
   ]
  },
  {
   "cell_type": "code",
   "execution_count": 6,
   "id": "72ad597d-7dee-43f7-8a72-bb352e5763dd",
   "metadata": {},
   "outputs": [
    {
     "ename": "SyntaxError",
     "evalue": "Identifier 'EventType' has already been declared",
     "execution_count": 6,
     "output_type": "error",
     "traceback": [
      "evalmachine.<anonymous>:1",
      "const { EventType } = require('../src/types')",
      "^",
      "",
      "SyntaxError: Identifier 'EventType' has already been declared",
      "    at Script.runInThisContext (node:vm:131:12)",
      "    at Object.runInThisContext (node:vm:308:38)",
      "    at run ([eval]:1054:15)",
      "    at onRunRequest ([eval]:888:18)",
      "    at onMessage ([eval]:848:13)",
      "    at process.emit (node:events:378:20)",
      "    at emit (node:internal/child_process:920:12)",
      "    at processTicksAndRejections (node:internal/process/task_queues:82:21)"
     ]
    }
   ],
   "source": [
    "const { EventType } = require('../src/types')"
   ]
  },
  {
   "cell_type": "code",
   "execution_count": 2,
   "id": "c06ff34b-2050-4a27-9f7d-7b0fac05e9e4",
   "metadata": {},
   "outputs": [
    {
     "name": "stderr",
     "output_type": "stream",
     "text": [
      "7:30 - 'EventType' refers to a value, but is being used as a type here. Did you mean 'typeof EventType'?\n"
     ]
    }
   ],
   "source": [
    "\n",
    "\n",
    "\n",
    "let events = new Map<string, EventType>(\n",
    "  Object.entries(rawEvents).map(([name, event]) => {\n",
    "    return [name, deserializeEvent(event)];\n",
    "  })\n",
    ");"
   ]
  },
  {
   "cell_type": "code",
   "execution_count": 6,
   "id": "b44bd738-8ac2-4764-8b54-70d055d19359",
   "metadata": {},
   "outputs": [
    {
     "name": "stderr",
     "output_type": "stream",
     "text": [
      "1:1 - Cannot find name 'events'.\n"
     ]
    }
   ],
   "source": [
    "events"
   ]
  },
  {
   "cell_type": "code",
   "execution_count": 5,
   "id": "f1548c61-349f-4a52-a933-9c40765242af",
   "metadata": {},
   "outputs": [
    {
     "data": {
      "text/plain": [
       "true"
      ]
     },
     "execution_count": 5,
     "metadata": {},
     "output_type": "execute_result"
    }
   ],
   "source": [
    "estimateBetReward(event, \"AboveEq\", 1_000_000).eq(1_500_000)"
   ]
  }
 ],
 "metadata": {
  "kernelspec": {
   "display_name": "Javascript (Node.js)",
   "language": "javascript",
   "name": "javascript"
  },
  "language_info": {
   "file_extension": ".js",
   "mimetype": "application/javascript",
   "name": "javascript",
   "version": "15.10.0"
  }
 },
 "nbformat": 4,
 "nbformat_minor": 5
}
