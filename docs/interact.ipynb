{
 "cells": [
  {
   "cell_type": "code",
   "execution_count": 3,
   "id": "d19346d3-2aed-4998-b1fc-b79583808983",
   "metadata": {},
   "outputs": [],
   "source": [
    "const { BakingBet } = require(\"..\");"
   ]
  },
  {
   "cell_type": "code",
   "execution_count": 4,
   "id": "382a9bfb-ec77-4c41-b74e-9d0f2b9b85b5",
   "metadata": {},
   "outputs": [
    {
     "name": "stdout",
     "output_type": "stream",
     "text": [
      "GOT MOCK POST MESSAGE { target: 'toExtension', payload: 'ping' }\n",
      "GOT MOCK POST MESSAGE { target: 'toExtension', payload: 'ping' }\n"
     ]
    }
   ],
   "source": [
    "const { BeaconWallet } = require(\"@taquito/beacon-wallet\");"
   ]
  },
  {
   "cell_type": "code",
   "execution_count": 5,
   "id": "02252757-842f-40ed-b13d-ccf4a4d251b5",
   "metadata": {},
   "outputs": [],
   "source": [
    "const { TezosToolkit } = require(\"@taquito/taquito\");\n",
    "const Tezos = new TezosToolkit('https://testnet-tezos.giganode.io');"
   ]
  },
  {
   "cell_type": "code",
   "execution_count": 6,
   "id": "9667f1b0-16e5-45fa-9b54-f0e82244bf4a",
   "metadata": {
    "tags": []
   },
   "outputs": [
    {
     "name": "stderr",
     "output_type": "stream",
     "text": [
      "ReferenceError: localStorage is not defined\n",
      "    at LocalStorage.<anonymous> (/home/fortune/Documents/DeFiProjects/FortuneCrystalBall/baking-bet-sdk/node_modules/@airgap/beacon-sdk/dist/cjs/storage/LocalStorage.js:86:43)\n",
      "    at step (/home/fortune/Documents/DeFiProjects/FortuneCrystalBall/baking-bet-sdk/node_modules/@airgap/beacon-sdk/dist/cjs/storage/LocalStorage.js:33:23)\n",
      "    at Object.next (/home/fortune/Documents/DeFiProjects/FortuneCrystalBall/baking-bet-sdk/node_modules/@airgap/beacon-sdk/dist/cjs/storage/LocalStorage.js:14:53)\n",
      "    at /home/fortune/Documents/DeFiProjects/FortuneCrystalBall/baking-bet-sdk/node_modules/@airgap/beacon-sdk/dist/cjs/storage/LocalStorage.js:8:71\n",
      "    at new Promise (<anonymous>)\n",
      "    at __awaiter (/home/fortune/Documents/DeFiProjects/FortuneCrystalBall/baking-bet-sdk/node_modules/@airgap/beacon-sdk/dist/cjs/storage/LocalStorage.js:4:12)\n",
      "    at LocalStorage.set (/home/fortune/Documents/DeFiProjects/FortuneCrystalBall/baking-bet-sdk/node_modules/@airgap/beacon-sdk/dist/cjs/storage/LocalStorage.js:83:16)\n",
      "    at DAppClient.<anonymous> (/home/fortune/Documents/DeFiProjects/FortuneCrystalBall/baking-bet-sdk/node_modules/@airgap/beacon-sdk/dist/cjs/clients/beacon-client/BeaconClient.js:121:30)\n",
      "    at step (/home/fortune/Documents/DeFiProjects/FortuneCrystalBall/baking-bet-sdk/node_modules/@airgap/beacon-sdk/dist/cjs/clients/beacon-client/BeaconClient.js:33:23)\n",
      "    at Object.next (/home/fortune/Documents/DeFiProjects/FortuneCrystalBall/baking-bet-sdk/node_modules/@airgap/beacon-sdk/dist/cjs/clients/beacon-client/BeaconClient.js:14:53)\n",
      "ReferenceError: localStorage is not defined\n",
      "    at LocalStorage.<anonymous> (/home/fortune/Documents/DeFiProjects/FortuneCrystalBall/baking-bet-sdk/node_modules/@airgap/beacon-sdk/dist/cjs/storage/LocalStorage.js:61:17)\n",
      "    at step (/home/fortune/Documents/DeFiProjects/FortuneCrystalBall/baking-bet-sdk/node_modules/@airgap/beacon-sdk/dist/cjs/storage/LocalStorage.js:33:23)\n",
      "    at Object.next (/home/fortune/Documents/DeFiProjects/FortuneCrystalBall/baking-bet-sdk/node_modules/@airgap/beacon-sdk/dist/cjs/storage/LocalStorage.js:14:53)\n",
      "    at /home/fortune/Documents/DeFiProjects/FortuneCrystalBall/baking-bet-sdk/node_modules/@airgap/beacon-sdk/dist/cjs/storage/LocalStorage.js:8:71\n",
      "    at new Promise (<anonymous>)\n",
      "    at __awaiter (/home/fortune/Documents/DeFiProjects/FortuneCrystalBall/baking-bet-sdk/node_modules/@airgap/beacon-sdk/dist/cjs/storage/LocalStorage.js:4:12)\n",
      "    at LocalStorage.get (/home/fortune/Documents/DeFiProjects/FortuneCrystalBall/baking-bet-sdk/node_modules/@airgap/beacon-sdk/dist/cjs/storage/LocalStorage.js:58:16)\n",
      "    at DAppClient.<anonymous> (/home/fortune/Documents/DeFiProjects/FortuneCrystalBall/baking-bet-sdk/node_modules/@airgap/beacon-sdk/dist/cjs/clients/beacon-client/BeaconClient.js:156:63)\n",
      "    at step (/home/fortune/Documents/DeFiProjects/FortuneCrystalBall/baking-bet-sdk/node_modules/@airgap/beacon-sdk/dist/cjs/clients/beacon-client/BeaconClient.js:33:23)\n",
      "    at Object.next (/home/fortune/Documents/DeFiProjects/FortuneCrystalBall/baking-bet-sdk/node_modules/@airgap/beacon-sdk/dist/cjs/clients/beacon-client/BeaconClient.js:14:53)\n"
     ]
    }
   ],
   "source": [
    "const options = {\n",
    "  name: 'BakingBet',\n",
    "  iconUrl: 'https://tezostaquito.io/img/favicon.png',\n",
    "  preferredNetwork: \"florencenet\",\n",
    "  eventHandlers: {\n",
    "    PERMISSION_REQUEST_SUCCESS: {\n",
    "      handler: async (data) => {\n",
    "        console.log('permission data:', data);\n",
    "      },\n",
    "    },\n",
    "  },\n",
    "};\n",
    "const wallet = new BeaconWallet(options);"
   ]
  },
  {
   "cell_type": "code",
   "execution_count": 2,
   "id": "d84ac972-0c40-4cdd-8589-f850f5edffbb",
   "metadata": {},
   "outputs": [
    {
     "name": "stdout",
     "output_type": "stream",
     "text": [
      "BakingBet creation\n"
     ]
    }
   ],
   "source": [
    "const bb = new BakingBet(\"testnet\")"
   ]
  },
  {
   "cell_type": "code",
   "execution_count": 3,
   "id": "c06ff34b-2050-4a27-9f7d-7b0fac05e9e4",
   "metadata": {},
   "outputs": [],
   "source": [
    "const { estimateBetReward } = require(\"..\");"
   ]
  },
  {
   "cell_type": "code",
   "execution_count": 4,
   "id": "b44bd738-8ac2-4764-8b54-70d055d19359",
   "metadata": {},
   "outputs": [
    {
     "data": {
      "text/plain": [
       "{ poolAboveEq: 1000000, poolBellow: 1000000 }"
      ]
     },
     "execution_count": 4,
     "metadata": {},
     "output_type": "execute_result"
    }
   ],
   "source": [
    "event = {\n",
    "    poolAboveEq: 1000000,\n",
    "    poolBellow: 1000000\n",
    "}"
   ]
  },
  {
   "cell_type": "code",
   "execution_count": 5,
   "id": "f1548c61-349f-4a52-a933-9c40765242af",
   "metadata": {},
   "outputs": [
    {
     "data": {
      "text/plain": [
       "true"
      ]
     },
     "execution_count": 5,
     "metadata": {},
     "output_type": "execute_result"
    }
   ],
   "source": [
    "estimateBetReward(event, \"AboveEq\", 1_000_000).eq(1_500_000)"
   ]
  }
 ],
 "metadata": {
  "kernelspec": {
   "display_name": "Javascript (Node.js)",
   "language": "javascript",
   "name": "javascript"
  },
  "language_info": {
   "file_extension": ".js",
   "mimetype": "application/javascript",
   "name": "javascript",
   "version": "15.10.0"
  }
 },
 "nbformat": 4,
 "nbformat_minor": 5
}
