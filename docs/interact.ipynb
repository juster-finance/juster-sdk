{
 "cells": [
  {
   "cell_type": "code",
   "execution_count": 1,
   "id": "d19346d3-2aed-4998-b1fc-b79583808983",
   "metadata": {},
   "outputs": [],
   "source": [
    "const { BakingBet } = require(\"..\");"
   ]
  },
  {
   "cell_type": "code",
   "execution_count": 2,
   "id": "d84ac972-0c40-4cdd-8589-f850f5edffbb",
   "metadata": {},
   "outputs": [
    {
     "name": "stdout",
     "output_type": "stream",
     "text": [
      "BakingBet creation\n"
     ]
    }
   ],
   "source": [
    "const bb = new BakingBet(\"testnet\")"
   ]
  },
  {
   "cell_type": "code",
   "execution_count": 3,
   "id": "c06ff34b-2050-4a27-9f7d-7b0fac05e9e4",
   "metadata": {},
   "outputs": [],
   "source": [
    "const { estimateBetReward } = require(\"..\");"
   ]
  },
  {
   "cell_type": "code",
   "execution_count": 4,
   "id": "b44bd738-8ac2-4764-8b54-70d055d19359",
   "metadata": {},
   "outputs": [
    {
     "data": {
      "text/plain": [
       "{ poolAboveEq: 1000000, poolBellow: 1000000 }"
      ]
     },
     "execution_count": 4,
     "metadata": {},
     "output_type": "execute_result"
    }
   ],
   "source": [
    "event = {\n",
    "    poolAboveEq: 1000000,\n",
    "    poolBellow: 1000000\n",
    "}"
   ]
  },
  {
   "cell_type": "code",
   "execution_count": 5,
   "id": "f1548c61-349f-4a52-a933-9c40765242af",
   "metadata": {},
   "outputs": [
    {
     "data": {
      "text/plain": [
       "true"
      ]
     },
     "execution_count": 5,
     "metadata": {},
     "output_type": "execute_result"
    }
   ],
   "source": [
    "estimateBetReward(event, \"AboveEq\", 1_000_000).eq(1_500_000)"
   ]
  }
 ],
 "metadata": {
  "kernelspec": {
   "display_name": "Javascript (Node.js)",
   "language": "javascript",
   "name": "javascript"
  },
  "language_info": {
   "file_extension": ".js",
   "mimetype": "application/javascript",
   "name": "javascript",
   "version": "15.10.0"
  }
 },
 "nbformat": 4,
 "nbformat_minor": 5
}
