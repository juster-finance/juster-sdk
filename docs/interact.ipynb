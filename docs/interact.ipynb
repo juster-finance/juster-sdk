{
 "cells": [
  {
   "cell_type": "code",
   "execution_count": 1,
   "id": "d19346d3-2aed-4998-b1fc-b79583808983",
   "metadata": {},
   "outputs": [],
   "source": [
    "const { BakingBet } = require(\"..\");"
   ]
  },
  {
   "cell_type": "code",
   "execution_count": 2,
   "id": "d84ac972-0c40-4cdd-8589-f850f5edffbb",
   "metadata": {},
   "outputs": [
    {
     "name": "stdout",
     "output_type": "stream",
     "text": [
      "BakingBet creation\n"
     ]
    }
   ],
   "source": [
    "const bb = new BakingBet(\"testnet\")"
   ]
  }
 ],
 "metadata": {
  "kernelspec": {
   "display_name": "Javascript (Node.js)",
   "language": "javascript",
   "name": "javascript"
  },
  "language_info": {
   "file_extension": ".js",
   "mimetype": "application/javascript",
   "name": "javascript",
   "version": "15.10.0"
  }
 },
 "nbformat": 4,
 "nbformat_minor": 5
}
